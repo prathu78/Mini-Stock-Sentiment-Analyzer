{
  "nbformat": 4,
  "nbformat_minor": 0,
  "metadata": {
    "colab": {
      "provenance": [],
      "authorship_tag": "ABX9TyO8zNYT+mQpptrmMPVflpq8",
      "include_colab_link": true
    },
    "kernelspec": {
      "name": "python3",
      "display_name": "Python 3"
    },
    "language_info": {
      "name": "python"
    }
  },
  "cells": [
    {
      "cell_type": "markdown",
      "metadata": {
        "id": "view-in-github",
        "colab_type": "text"
      },
      "source": [
        "<a href=\"https://colab.research.google.com/github/prathu78/Mini-Stock-Sentiment-Analyzer/blob/main/Mini_Stock_Sentiment_Analyzer.ipynb\" target=\"_parent\"><img src=\"https://colab.research.google.com/assets/colab-badge.svg\" alt=\"Open In Colab\"/></a>"
      ]
    },
    {
      "cell_type": "code",
      "execution_count": 1,
      "metadata": {
        "colab": {
          "base_uri": "https://localhost:8080/"
        },
        "id": "340jd-xmFgGI",
        "outputId": "970d9767-918a-4373-966d-5f1bfad76095"
      },
      "outputs": [
        {
          "output_type": "stream",
          "name": "stdout",
          "text": [
            "                                            Headline Sentiment\n",
            "0       Apple reports record-breaking earnings in Q1   Neutral\n",
            "1             Investors worry about rising inflation   Neutral\n",
            "2          Tesla faces production delays in Shanghai   Neutral\n",
            "3                 Amazon to lay off 10,000 employees   Neutral\n",
            "4  Google announces breakthrough in quantum compu...   Neutral\n"
          ]
        }
      ],
      "source": [
        "import pandas as pd\n",
        "from textblob import TextBlob\n",
        "\n",
        "\n",
        "headlines = [\n",
        "    \"Apple reports record-breaking earnings in Q1\",\n",
        "    \"Investors worry about rising inflation\",\n",
        "    \"Tesla faces production delays in Shanghai\",\n",
        "    \"Amazon to lay off 10,000 employees\",\n",
        "    \"Google announces breakthrough in quantum computing\"\n",
        "]\n",
        "\n",
        "\n",
        "df = pd.DataFrame(headlines, columns=[\"Headline\"])\n",
        "\n",
        "\n",
        "def get_sentiment(text):\n",
        "    analysis = TextBlob(text)\n",
        "    polarity = analysis.sentiment.polarity\n",
        "    if polarity > 0.1:\n",
        "        return \"Positive\"\n",
        "    elif polarity < -0.1:\n",
        "        return \"Negative\"\n",
        "    else:\n",
        "        return \"Neutral\"\n",
        "\n",
        "df[\"Sentiment\"] = df[\"Headline\"].apply(get_sentiment)\n",
        "\n",
        "\n",
        "print(df)\n"
      ]
    }
  ]
}